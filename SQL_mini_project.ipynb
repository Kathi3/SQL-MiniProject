{
  "nbformat": 4,
  "nbformat_minor": 0,
  "metadata": {
    "colab": {
      "name": "SQL-mini-project.ipynb",
      "provenance": [],
      "collapsed_sections": [],
      "include_colab_link": true
    },
    "kernelspec": {
      "name": "python3",
      "display_name": "Python 3"
    },
    "language_info": {
      "name": "python"
    }
  },
  "cells": [
    {
      "cell_type": "markdown",
      "metadata": {
        "id": "view-in-github",
        "colab_type": "text"
      },
      "source": [
        "<a href=\"https://colab.research.google.com/github/Kathi3/SQL-MiniProject/blob/main/SQL_mini_project.ipynb\" target=\"_parent\"><img src=\"https://colab.research.google.com/assets/colab-badge.svg\" alt=\"Open In Colab\"/></a>"
      ]
    },
    {
      "cell_type": "code",
      "metadata": {
        "id": "wOYe5yesIw45",
        "colab": {
          "base_uri": "https://localhost:8080/"
        },
        "outputId": "d5979648-aa5d-4e8d-d774-de1941c8b851"
      },
      "source": [
        "#mounting google drive\n",
        "from google.colab import drive\n",
        "drive.mount('/content/drive')"
      ],
      "execution_count": 1,
      "outputs": [
        {
          "output_type": "stream",
          "text": [
            "Mounted at /content/drive\n"
          ],
          "name": "stdout"
        }
      ]
    },
    {
      "cell_type": "code",
      "metadata": {
        "id": "K5DR0NY0JMvv"
      },
      "source": [
        "##\n",
        "##\n",
        "root_dir = '/content/drive/Mydrive'\n",
        "folder = '/content/drive/Mydrive/sql'\n",
        "\n"
      ],
      "execution_count": 2,
      "outputs": []
    },
    {
      "cell_type": "markdown",
      "metadata": {
        "id": "MSq8RsOpiiQU"
      },
      "source": [
        "## **CONNECTING TO SQL DATABASE**"
      ]
    },
    {
      "cell_type": "code",
      "metadata": {
        "colab": {
          "base_uri": "https://localhost:8080/",
          "height": 35
        },
        "id": "ERGzWTmshoDK",
        "outputId": "19db297e-664c-4f31-eed4-2f42fc587a41"
      },
      "source": [
        "#Loading the SQL extension to the environment\n",
        "#Connecting SQl lite memory database\n",
        "%load_ext sql\n",
        "%sql sqlite://"
      ],
      "execution_count": 3,
      "outputs": [
        {
          "output_type": "execute_result",
          "data": {
            "application/vnd.google.colaboratory.intrinsic+json": {
              "type": "string"
            },
            "text/plain": [
              "'Connected: @None'"
            ]
          },
          "metadata": {
            "tags": []
          },
          "execution_count": 3
        }
      ]
    },
    {
      "cell_type": "markdown",
      "metadata": {
        "id": "8NcXFDs-io3n"
      },
      "source": [
        "## **IMPORTING LIBRARIES**"
      ]
    },
    {
      "cell_type": "code",
      "metadata": {
        "id": "N8SWwqnqignP"
      },
      "source": [
        "#importing pandas\n",
        "import pandas as pd\n",
        "import numpy as np\n",
        "import matplotlib.pyplot as plt\n",
        "import seaborn as sns\n",
        "%matplotlib inline\n"
      ],
      "execution_count": 4,
      "outputs": []
    },
    {
      "cell_type": "markdown",
      "metadata": {
        "id": "d10BkIaS00LS"
      },
      "source": [
        "# **DATASET LOADING**"
      ]
    },
    {
      "cell_type": "markdown",
      "metadata": {
        "id": "uzOg4Fey1b6P"
      },
      "source": [
        "**Load dataset into pandas dataframe.**"
      ]
    },
    {
      "cell_type": "code",
      "metadata": {
        "id": "EMybcRN7jW8z",
        "colab": {
          "base_uri": "https://localhost:8080/",
          "height": 203
        },
        "outputId": "214d05c8-2d18-4d65-a688-2b4fce011d44"
      },
      "source": [
        "#Importing the population datasets\n",
        "\n",
        "population_df=pd.read_csv('Population_by_state.csv')\n",
        "population_df.head()\n"
      ],
      "execution_count": 6,
      "outputs": [
        {
          "output_type": "execute_result",
          "data": {
            "text/html": [
              "<div>\n",
              "<style scoped>\n",
              "    .dataframe tbody tr th:only-of-type {\n",
              "        vertical-align: middle;\n",
              "    }\n",
              "\n",
              "    .dataframe tbody tr th {\n",
              "        vertical-align: top;\n",
              "    }\n",
              "\n",
              "    .dataframe thead th {\n",
              "        text-align: right;\n",
              "    }\n",
              "</style>\n",
              "<table border=\"1\" class=\"dataframe\">\n",
              "  <thead>\n",
              "    <tr style=\"text-align: right;\">\n",
              "      <th></th>\n",
              "      <th>State</th>\n",
              "      <th>Population</th>\n",
              "    </tr>\n",
              "  </thead>\n",
              "  <tbody>\n",
              "    <tr>\n",
              "      <th>0</th>\n",
              "      <td>CALIFORNIA</td>\n",
              "      <td>39144818</td>\n",
              "    </tr>\n",
              "    <tr>\n",
              "      <th>1</th>\n",
              "      <td>TEXAS</td>\n",
              "      <td>27469114</td>\n",
              "    </tr>\n",
              "    <tr>\n",
              "      <th>2</th>\n",
              "      <td>FLORIDA</td>\n",
              "      <td>20271272</td>\n",
              "    </tr>\n",
              "    <tr>\n",
              "      <th>3</th>\n",
              "      <td>NEW YORK</td>\n",
              "      <td>19795791</td>\n",
              "    </tr>\n",
              "    <tr>\n",
              "      <th>4</th>\n",
              "      <td>ILLINOIS</td>\n",
              "      <td>12859995</td>\n",
              "    </tr>\n",
              "  </tbody>\n",
              "</table>\n",
              "</div>"
            ],
            "text/plain": [
              "        State  Population\n",
              "0  CALIFORNIA    39144818\n",
              "1       TEXAS    27469114\n",
              "2     FLORIDA    20271272\n",
              "3    NEW YORK    19795791\n",
              "4    ILLINOIS    12859995"
            ]
          },
          "metadata": {
            "tags": []
          },
          "execution_count": 6
        }
      ]
    },
    {
      "cell_type": "code",
      "metadata": {
        "colab": {
          "base_uri": "https://localhost:8080/",
          "height": 203
        },
        "id": "4ju1bdHt2Efc",
        "outputId": "a40d1ac0-90b1-4085-d7c7-66d3337ccbf4"
      },
      "source": [
        "#Importing the grand electors datasets\n",
        "grand_electors=pd.read_csv('GrandElectors_by_state.csv')\n",
        "grand_electors.head()"
      ],
      "execution_count": 7,
      "outputs": [
        {
          "output_type": "execute_result",
          "data": {
            "text/html": [
              "<div>\n",
              "<style scoped>\n",
              "    .dataframe tbody tr th:only-of-type {\n",
              "        vertical-align: middle;\n",
              "    }\n",
              "\n",
              "    .dataframe tbody tr th {\n",
              "        vertical-align: top;\n",
              "    }\n",
              "\n",
              "    .dataframe thead th {\n",
              "        text-align: right;\n",
              "    }\n",
              "</style>\n",
              "<table border=\"1\" class=\"dataframe\">\n",
              "  <thead>\n",
              "    <tr style=\"text-align: right;\">\n",
              "      <th></th>\n",
              "      <th>State</th>\n",
              "      <th>GrandElectors</th>\n",
              "    </tr>\n",
              "  </thead>\n",
              "  <tbody>\n",
              "    <tr>\n",
              "      <th>0</th>\n",
              "      <td>Alabama</td>\n",
              "      <td>9</td>\n",
              "    </tr>\n",
              "    <tr>\n",
              "      <th>1</th>\n",
              "      <td>Alaska</td>\n",
              "      <td>3</td>\n",
              "    </tr>\n",
              "    <tr>\n",
              "      <th>2</th>\n",
              "      <td>Arizona</td>\n",
              "      <td>11</td>\n",
              "    </tr>\n",
              "    <tr>\n",
              "      <th>3</th>\n",
              "      <td>Arkansas</td>\n",
              "      <td>6</td>\n",
              "    </tr>\n",
              "    <tr>\n",
              "      <th>4</th>\n",
              "      <td>California</td>\n",
              "      <td>55</td>\n",
              "    </tr>\n",
              "  </tbody>\n",
              "</table>\n",
              "</div>"
            ],
            "text/plain": [
              "        State  GrandElectors\n",
              "0     Alabama              9\n",
              "1      Alaska              3\n",
              "2     Arizona             11\n",
              "3    Arkansas              6\n",
              "4  California             55"
            ]
          },
          "metadata": {
            "tags": []
          },
          "execution_count": 7
        }
      ]
    },
    {
      "cell_type": "markdown",
      "metadata": {
        "id": "kb9cwZb42tHr"
      },
      "source": [
        "**Save datasets in SQL dataframe.**"
      ]
    },
    {
      "cell_type": "code",
      "metadata": {
        "colab": {
          "base_uri": "https://localhost:8080/",
          "height": 225
        },
        "id": "qDtnwvJ8jEaJ",
        "outputId": "ba84763d-04f6-4f25-a6f6-81a619e8644e"
      },
      "source": [
        "#Uploading the GrandElectors Dataset to SQL dataframe\n",
        "#Droping any exsiting table named GrandElectors in our Database\n",
        "#Previewing the Table\n",
        "\n",
        "with open('/content/GrandElectors_by_state.csv','r') as f:\n",
        "    GrandElectors = pd.read_csv(f, index_col=0, encoding='utf-8')\n",
        "%sql DROP TABLE if EXISTS GrandElectors;\n",
        "%sql PERSIST GrandElectors;\n",
        "%sql SELECT * FROM GrandElectors LIMIT 5;"
      ],
      "execution_count": 8,
      "outputs": [
        {
          "output_type": "stream",
          "text": [
            " * sqlite://\n",
            "Done.\n",
            " * sqlite://\n",
            " * sqlite://\n",
            "Done.\n"
          ],
          "name": "stdout"
        },
        {
          "output_type": "execute_result",
          "data": {
            "text/html": [
              "<table>\n",
              "    <thead>\n",
              "        <tr>\n",
              "            <th>State</th>\n",
              "            <th>GrandElectors</th>\n",
              "        </tr>\n",
              "    </thead>\n",
              "    <tbody>\n",
              "        <tr>\n",
              "            <td>Alabama</td>\n",
              "            <td>9</td>\n",
              "        </tr>\n",
              "        <tr>\n",
              "            <td>Alaska</td>\n",
              "            <td>3</td>\n",
              "        </tr>\n",
              "        <tr>\n",
              "            <td>Arizona</td>\n",
              "            <td>11</td>\n",
              "        </tr>\n",
              "        <tr>\n",
              "            <td>Arkansas</td>\n",
              "            <td>6</td>\n",
              "        </tr>\n",
              "        <tr>\n",
              "            <td>California</td>\n",
              "            <td>55</td>\n",
              "        </tr>\n",
              "    </tbody>\n",
              "</table>"
            ],
            "text/plain": [
              "[('Alabama', 9),\n",
              " ('Alaska', 3),\n",
              " ('Arizona', 11),\n",
              " ('Arkansas', 6),\n",
              " ('California', 55)]"
            ]
          },
          "metadata": {
            "tags": []
          },
          "execution_count": 8
        }
      ]
    },
    {
      "cell_type": "code",
      "metadata": {
        "colab": {
          "base_uri": "https://localhost:8080/",
          "height": 225
        },
        "id": "Y1tr5l0EkX38",
        "outputId": "33e3d4de-b62e-4e17-ce03-ec38fd2be091"
      },
      "source": [
        "#Uploading the population Dataset to SQL dataframe\n",
        "#Droping any exsiting table named Population in our Database\n",
        "#Previewing the Table\n",
        "\n",
        "import pandas as pd \n",
        "\n",
        "with open('/content/Population_by_state.csv','r') as f:\n",
        "    Population = pd.read_csv(f, index_col=0, encoding='utf-8')\n",
        "%sql DROP TABLE if EXISTS Population;\n",
        "%sql PERSIST Population;\n",
        "%sql SELECT * FROM Population LIMIT 5;"
      ],
      "execution_count": 9,
      "outputs": [
        {
          "output_type": "stream",
          "text": [
            " * sqlite://\n",
            "Done.\n",
            " * sqlite://\n",
            " * sqlite://\n",
            "Done.\n"
          ],
          "name": "stdout"
        },
        {
          "output_type": "execute_result",
          "data": {
            "text/html": [
              "<table>\n",
              "    <thead>\n",
              "        <tr>\n",
              "            <th>State</th>\n",
              "            <th>Population</th>\n",
              "        </tr>\n",
              "    </thead>\n",
              "    <tbody>\n",
              "        <tr>\n",
              "            <td>CALIFORNIA</td>\n",
              "            <td>39144818</td>\n",
              "        </tr>\n",
              "        <tr>\n",
              "            <td>TEXAS</td>\n",
              "            <td>27469114</td>\n",
              "        </tr>\n",
              "        <tr>\n",
              "            <td>FLORIDA</td>\n",
              "            <td>20271272</td>\n",
              "        </tr>\n",
              "        <tr>\n",
              "            <td>NEW YORK</td>\n",
              "            <td>19795791</td>\n",
              "        </tr>\n",
              "        <tr>\n",
              "            <td>ILLINOIS</td>\n",
              "            <td>12859995</td>\n",
              "        </tr>\n",
              "    </tbody>\n",
              "</table>"
            ],
            "text/plain": [
              "[('CALIFORNIA', 39144818),\n",
              " ('TEXAS', 27469114),\n",
              " ('FLORIDA', 20271272),\n",
              " ('NEW YORK', 19795791),\n",
              " ('ILLINOIS', 12859995)]"
            ]
          },
          "metadata": {
            "tags": []
          },
          "execution_count": 9
        }
      ]
    },
    {
      "cell_type": "markdown",
      "metadata": {
        "id": "ua9-oJ5Q3zQ9"
      },
      "source": [
        "# **DATA UNDERSTANDING**"
      ]
    },
    {
      "cell_type": "code",
      "metadata": {
        "colab": {
          "base_uri": "https://localhost:8080/"
        },
        "id": "h0MazJHIxrpD",
        "outputId": "07eb33f8-7770-482d-b332-f56a382e0f11"
      },
      "source": [
        "# Getting to know more about the grandelectors data-set.\n",
        "#Like the data-types currently in use since by both escpecially in an event we need to convert the data formats.\n",
        "Population.columns.values"
      ],
      "execution_count": 10,
      "outputs": [
        {
          "output_type": "execute_result",
          "data": {
            "text/plain": [
              "array(['Population'], dtype=object)"
            ]
          },
          "metadata": {
            "tags": []
          },
          "execution_count": 10
        }
      ]
    },
    {
      "cell_type": "code",
      "metadata": {
        "colab": {
          "base_uri": "https://localhost:8080/"
        },
        "id": "lQ3f3wLv8yec",
        "outputId": "9a458043-5cf7-46cf-96d2-b5378a002fc0"
      },
      "source": [
        "# Finding the value count of the grand electors dataset\n",
        "GrandElectors[\"GrandElectors\"].value_counts()"
      ],
      "execution_count": 11,
      "outputs": [
        {
          "output_type": "execute_result",
          "data": {
            "text/plain": [
              "3     8\n",
              "6     6\n",
              "4     5\n",
              "11    4\n",
              "10    4\n",
              "9     3\n",
              "5     3\n",
              "7     3\n",
              "29    2\n",
              "20    2\n",
              "16    2\n",
              "8     2\n",
              "55    1\n",
              "38    1\n",
              "13    1\n",
              "14    1\n",
              "15    1\n",
              "18    1\n",
              "12    1\n",
              "Name: GrandElectors, dtype: int64"
            ]
          },
          "metadata": {
            "tags": []
          },
          "execution_count": 11
        }
      ]
    },
    {
      "cell_type": "code",
      "metadata": {
        "colab": {
          "base_uri": "https://localhost:8080/"
        },
        "id": "hAc2lgN99KSi",
        "outputId": "ffd5669b-ea53-4b26-902e-2ea21602221d"
      },
      "source": [
        "# Getting to know the value count of the population dataset\n",
        "population_df[\"Population\"].value_counts() "
      ],
      "execution_count": 12,
      "outputs": [
        {
          "output_type": "execute_result",
          "data": {
            "text/plain": [
              "1896190     1\n",
              "586107      1\n",
              "6794422     1\n",
              "52344       1\n",
              "1431603     1\n",
              "10042802    1\n",
              "27469114    1\n",
              "1330608     1\n",
              "3911338     1\n",
              "2085109     1\n",
              "1056298     1\n",
              "20271272    1\n",
              "6828065     1\n",
              "1844128     1\n",
              "2978204     1\n",
              "2911641     1\n",
              "1654930     1\n",
              "103574      1\n",
              "4425092     1\n",
              "4896146     1\n",
              "8382993     1\n",
              "9922576     1\n",
              "945934      1\n",
              "7170351     1\n",
              "3474182     1\n",
              "4670724     1\n",
              "6006401     1\n",
              "5489594     1\n",
              "3123899     1\n",
              "8958013     1\n",
              "672228      1\n",
              "626042      1\n",
              "161785      1\n",
              "54343       1\n",
              "1032949     1\n",
              "39144818    1\n",
              "2995919     1\n",
              "11613423    1\n",
              "6600299     1\n",
              "858469      1\n",
              "3590886     1\n",
              "6619680     1\n",
              "4858979     1\n",
              "5456574     1\n",
              "19795791    1\n",
              "1329328     1\n",
              "2890845     1\n",
              "12859995    1\n",
              "6083672     1\n",
              "4028977     1\n",
              "2992333     1\n",
              "10214860    1\n",
              "5771337     1\n",
              "12802503    1\n",
              "756927      1\n",
              "738432      1\n",
              "Name: Population, dtype: int64"
            ]
          },
          "metadata": {
            "tags": []
          },
          "execution_count": 12
        }
      ]
    },
    {
      "cell_type": "code",
      "metadata": {
        "colab": {
          "base_uri": "https://localhost:8080/"
        },
        "id": "jJfgqTvJ4YoI",
        "outputId": "fadca70d-5547-40fc-c750-4384f1a9b155"
      },
      "source": [
        "#checking null values and data-info in population dataset\n",
        "population_df.info()"
      ],
      "execution_count": 13,
      "outputs": [
        {
          "output_type": "stream",
          "text": [
            "<class 'pandas.core.frame.DataFrame'>\n",
            "RangeIndex: 56 entries, 0 to 55\n",
            "Data columns (total 2 columns):\n",
            " #   Column      Non-Null Count  Dtype \n",
            "---  ------      --------------  ----- \n",
            " 0   State       56 non-null     object\n",
            " 1   Population  56 non-null     int64 \n",
            "dtypes: int64(1), object(1)\n",
            "memory usage: 1.0+ KB\n"
          ],
          "name": "stdout"
        }
      ]
    },
    {
      "cell_type": "code",
      "metadata": {
        "colab": {
          "base_uri": "https://localhost:8080/"
        },
        "id": "Tou0q5Ve4YOu",
        "outputId": "80f666e6-1a84-4c22-d019-8ad6819b0b85"
      },
      "source": [
        "#checking null values and data-info in grand_electors dataset\n",
        "grand_electors.info()"
      ],
      "execution_count": 14,
      "outputs": [
        {
          "output_type": "stream",
          "text": [
            "<class 'pandas.core.frame.DataFrame'>\n",
            "RangeIndex: 51 entries, 0 to 50\n",
            "Data columns (total 2 columns):\n",
            " #   Column         Non-Null Count  Dtype \n",
            "---  ------         --------------  ----- \n",
            " 0   State          51 non-null     object\n",
            " 1   GrandElectors  51 non-null     int64 \n",
            "dtypes: int64(1), object(1)\n",
            "memory usage: 944.0+ bytes\n"
          ],
          "name": "stdout"
        }
      ]
    },
    {
      "cell_type": "code",
      "metadata": {
        "colab": {
          "base_uri": "https://localhost:8080/",
          "height": 114
        },
        "id": "Rap_1esT9sO7",
        "outputId": "72f5b2be-7dd4-4988-937b-c9fdb4db196c"
      },
      "source": [
        "%%sql\n",
        "PRAGMA table_info(GrandElectors);"
      ],
      "execution_count": 15,
      "outputs": [
        {
          "output_type": "stream",
          "text": [
            " * sqlite://\n",
            "Done.\n"
          ],
          "name": "stdout"
        },
        {
          "output_type": "execute_result",
          "data": {
            "text/html": [
              "<table>\n",
              "    <thead>\n",
              "        <tr>\n",
              "            <th>cid</th>\n",
              "            <th>name</th>\n",
              "            <th>type</th>\n",
              "            <th>notnull</th>\n",
              "            <th>dflt_value</th>\n",
              "            <th>pk</th>\n",
              "        </tr>\n",
              "    </thead>\n",
              "    <tbody>\n",
              "        <tr>\n",
              "            <td>0</td>\n",
              "            <td>State</td>\n",
              "            <td>TEXT</td>\n",
              "            <td>0</td>\n",
              "            <td>None</td>\n",
              "            <td>0</td>\n",
              "        </tr>\n",
              "        <tr>\n",
              "            <td>1</td>\n",
              "            <td>GrandElectors</td>\n",
              "            <td>BIGINT</td>\n",
              "            <td>0</td>\n",
              "            <td>None</td>\n",
              "            <td>0</td>\n",
              "        </tr>\n",
              "    </tbody>\n",
              "</table>"
            ],
            "text/plain": [
              "[(0, 'State', 'TEXT', 0, None, 0), (1, 'GrandElectors', 'BIGINT', 0, None, 0)]"
            ]
          },
          "metadata": {
            "tags": []
          },
          "execution_count": 15
        }
      ]
    },
    {
      "cell_type": "code",
      "metadata": {
        "colab": {
          "base_uri": "https://localhost:8080/",
          "height": 114
        },
        "id": "YhIF7h2d9r5c",
        "outputId": "4d040696-3b2f-4ca3-9b10-9c4319aae781"
      },
      "source": [
        "%%sql\n",
        "PRAGMA table_info(Population);"
      ],
      "execution_count": 16,
      "outputs": [
        {
          "output_type": "stream",
          "text": [
            " * sqlite://\n",
            "Done.\n"
          ],
          "name": "stdout"
        },
        {
          "output_type": "execute_result",
          "data": {
            "text/html": [
              "<table>\n",
              "    <thead>\n",
              "        <tr>\n",
              "            <th>cid</th>\n",
              "            <th>name</th>\n",
              "            <th>type</th>\n",
              "            <th>notnull</th>\n",
              "            <th>dflt_value</th>\n",
              "            <th>pk</th>\n",
              "        </tr>\n",
              "    </thead>\n",
              "    <tbody>\n",
              "        <tr>\n",
              "            <td>0</td>\n",
              "            <td>State</td>\n",
              "            <td>TEXT</td>\n",
              "            <td>0</td>\n",
              "            <td>None</td>\n",
              "            <td>0</td>\n",
              "        </tr>\n",
              "        <tr>\n",
              "            <td>1</td>\n",
              "            <td>Population</td>\n",
              "            <td>BIGINT</td>\n",
              "            <td>0</td>\n",
              "            <td>None</td>\n",
              "            <td>0</td>\n",
              "        </tr>\n",
              "    </tbody>\n",
              "</table>"
            ],
            "text/plain": [
              "[(0, 'State', 'TEXT', 0, None, 0), (1, 'Population', 'BIGINT', 0, None, 0)]"
            ]
          },
          "metadata": {
            "tags": []
          },
          "execution_count": 16
        }
      ]
    },
    {
      "cell_type": "code",
      "metadata": {
        "colab": {
          "base_uri": "https://localhost:8080/",
          "height": 153
        },
        "id": "1Yb0XYPP4X5_",
        "outputId": "3fd96ce1-73e0-439b-e9ea-9408911c58c5"
      },
      "source": [
        "\n",
        "#checking outliers of population dataset using boxplot and swarmplot\n",
        "#unusual but normal partof the data\n",
        "plt.figure(figsize=(9,2))\n",
        "plot=sns.boxplot(x='Population',data=population_df,color='white')\n",
        "plot=sns.swarmplot(x='Population',data=population_df,color='black')\n",
        "plt.title('POPULATION BOXPLOT',fontsize=12)\n",
        "plt.xlabel('population_size')\n",
        "plt.tight_layout()"
      ],
      "execution_count": 17,
      "outputs": [
        {
          "output_type": "display_data",
          "data": {
            "image/png": "[encoded data removed]",
            "text/plain": [
              "<Figure size 648x144 with 1 Axes>"
            ]
          },
          "metadata": {
            "tags": [],
            "needs_background": "light"
          }
        }
      ]
    },
    {
      "cell_type": "code",
      "metadata": {
        "colab": {
          "base_uri": "https://localhost:8080/",
          "height": 153
        },
        "id": "NAoMd1Qo5sPA",
        "outputId": "9425111d-e893-4532-8906-f6cf4ea31775"
      },
      "source": [
        "#checking outliers of grand electors dataset using boxplot and swarmplot\n",
        "\n",
        "\n",
        "plt.figure(figsize=(9,2))\n",
        "plot=sns.boxplot(x='GrandElectors',data=grand_electors,color='cyan')\n",
        "plot=sns.swarmplot(x='GrandElectors',data=grand_electors,color='black')\n",
        "plt.title('GRAND ELECTORS',fontsize=12)\n",
        "plt.xlabel('GrandElectors_size')\n",
        "plt.tight_layout()"
      ],
      "execution_count": 18,
      "outputs": [
        {
          "output_type": "display_data",
          "data": {
            "image/png": "[encoded data removed]",
            "text/plain": [
              "<Figure size 648x144 with 1 Axes>"
            ]
          },
          "metadata": {
            "tags": [],
            "needs_background": "light"
          }
        }
      ]
    },
    {
      "cell_type": "markdown",
      "metadata": {
        "id": "Hgxqy-gY7SgL"
      },
      "source": [
        "#**DATA CLEANING**"
      ]
    },
    {
      "cell_type": "code",
      "metadata": {
        "colab": {
          "base_uri": "https://localhost:8080/"
        },
        "id": "8mReCT2kl9pV",
        "outputId": "e1264396-a6f2-4b09-feac-1faec584f0b1"
      },
      "source": [
        "#Converting the attributes in the State Column from GrandElectors Table to Uppercase \n",
        "#\n",
        "%%sql\n",
        "UPDATE GrandElectors\n",
        "SET state = UPPER(state)"
      ],
      "execution_count": 19,
      "outputs": [
        {
          "output_type": "stream",
          "text": [
            " * sqlite://\n",
            "51 rows affected.\n"
          ],
          "name": "stdout"
        },
        {
          "output_type": "execute_result",
          "data": {
            "text/plain": [
              "[]"
            ]
          },
          "metadata": {
            "tags": []
          },
          "execution_count": 19
        }
      ]
    },
    {
      "cell_type": "code",
      "metadata": {
        "id": "ZSSNd4fIubrq",
        "colab": {
          "base_uri": "https://localhost:8080/"
        },
        "outputId": "40296ea5-8406-459d-8c2d-c19959dcdc58"
      },
      "source": [
        "#Joining the two tables together\n",
        "#Creating a new table to store the attributes of the joined tables \n",
        "%%sql\n",
        "CREATE TABLE ELECTIONS AS SELECT State, Population, GrandElectors\n",
        "FROM (SELECT * FROM Population\n",
        "INNER JOIN GrandElectors ON Population.State = GrandElectors.State)"
      ],
      "execution_count": 20,
      "outputs": [
        {
          "output_type": "stream",
          "text": [
            " * sqlite://\n",
            "Done.\n"
          ],
          "name": "stdout"
        },
        {
          "output_type": "execute_result",
          "data": {
            "text/plain": [
              "[]"
            ]
          },
          "metadata": {
            "tags": []
          },
          "execution_count": 20
        }
      ]
    },
    {
      "cell_type": "code",
      "metadata": {
        "colab": {
          "base_uri": "https://localhost:8080/",
          "height": 277
        },
        "id": "imaGGCh8F8G4",
        "outputId": "ed616b1c-6011-4043-8471-7e4365e22ecf"
      },
      "source": [
        "#Preview of the table created \n",
        "%%sql\n",
        "SELECT * FROM ELECTIONS LIMIT 10"
      ],
      "execution_count": 21,
      "outputs": [
        {
          "output_type": "stream",
          "text": [
            " * sqlite://\n",
            "Done.\n"
          ],
          "name": "stdout"
        },
        {
          "output_type": "execute_result",
          "data": {
            "text/html": [
              "<table>\n",
              "    <thead>\n",
              "        <tr>\n",
              "            <th>State</th>\n",
              "            <th>Population</th>\n",
              "            <th>GrandElectors</th>\n",
              "        </tr>\n",
              "    </thead>\n",
              "    <tbody>\n",
              "        <tr>\n",
              "            <td>CALIFORNIA</td>\n",
              "            <td>39144818</td>\n",
              "            <td>55</td>\n",
              "        </tr>\n",
              "        <tr>\n",
              "            <td>TEXAS</td>\n",
              "            <td>27469114</td>\n",
              "            <td>38</td>\n",
              "        </tr>\n",
              "        <tr>\n",
              "            <td>FLORIDA</td>\n",
              "            <td>20271272</td>\n",
              "            <td>29</td>\n",
              "        </tr>\n",
              "        <tr>\n",
              "            <td>NEW YORK</td>\n",
              "            <td>19795791</td>\n",
              "            <td>29</td>\n",
              "        </tr>\n",
              "        <tr>\n",
              "            <td>ILLINOIS</td>\n",
              "            <td>12859995</td>\n",
              "            <td>20</td>\n",
              "        </tr>\n",
              "        <tr>\n",
              "            <td>PENNSYLVANIA</td>\n",
              "            <td>12802503</td>\n",
              "            <td>20</td>\n",
              "        </tr>\n",
              "        <tr>\n",
              "            <td>OHIO</td>\n",
              "            <td>11613423</td>\n",
              "            <td>18</td>\n",
              "        </tr>\n",
              "        <tr>\n",
              "            <td>GEORGIA</td>\n",
              "            <td>10214860</td>\n",
              "            <td>16</td>\n",
              "        </tr>\n",
              "        <tr>\n",
              "            <td>NORTH CAROLINA</td>\n",
              "            <td>10042802</td>\n",
              "            <td>15</td>\n",
              "        </tr>\n",
              "        <tr>\n",
              "            <td>MICHIGAN</td>\n",
              "            <td>9922576</td>\n",
              "            <td>16</td>\n",
              "        </tr>\n",
              "    </tbody>\n",
              "</table>"
            ],
            "text/plain": [
              "[('CALIFORNIA', 39144818, 55),\n",
              " ('TEXAS', 27469114, 38),\n",
              " ('FLORIDA', 20271272, 29),\n",
              " ('NEW YORK', 19795791, 29),\n",
              " ('ILLINOIS', 12859995, 20),\n",
              " ('PENNSYLVANIA', 12802503, 20),\n",
              " ('OHIO', 11613423, 18),\n",
              " ('GEORGIA', 10214860, 16),\n",
              " ('NORTH CAROLINA', 10042802, 15),\n",
              " ('MICHIGAN', 9922576, 16)]"
            ]
          },
          "metadata": {
            "tags": []
          },
          "execution_count": 21
        }
      ]
    },
    {
      "cell_type": "code",
      "metadata": {
        "colab": {
          "base_uri": "https://localhost:8080/"
        },
        "id": "tXXyIxcxGIuV",
        "outputId": "c555f629-0243-4552-f65b-24d6a44141c5"
      },
      "source": [
        "#Changing the name of the District of Columbia to its short form \"DC\"\n",
        "\n",
        "%%sql\n",
        "UPDATE ELECTIONS\n",
        "SET State = \"DC\"\n",
        "WHERE STATE = \"DISTRICT OF COLUMBIA\""
      ],
      "execution_count": 22,
      "outputs": [
        {
          "output_type": "stream",
          "text": [
            " * sqlite://\n",
            "1 rows affected.\n"
          ],
          "name": "stdout"
        },
        {
          "output_type": "execute_result",
          "data": {
            "text/plain": [
              "[]"
            ]
          },
          "metadata": {
            "tags": []
          },
          "execution_count": 22
        }
      ]
    },
    {
      "cell_type": "markdown",
      "metadata": {
        "id": "DqPls1OtxOrF"
      },
      "source": [
        "# **DATA EXPLORATION AND MODELING**"
      ]
    },
    {
      "cell_type": "markdown",
      "metadata": {
        "id": "8SkAiIXfGRBf"
      },
      "source": [
        "### **Computations**"
      ]
    },
    {
      "cell_type": "code",
      "metadata": {
        "colab": {
          "base_uri": "https://localhost:8080/"
        },
        "id": "uFU61SWCGPCb",
        "outputId": "650ce755-535b-4298-d9fe-42102d42c34d"
      },
      "source": [
        "#computing the ratio between the number of grand electors and the population.\n",
        "#Then creating a new column to display the ratio\n",
        "\n",
        "%%sql\n",
        "ALTER TABLE ELECTIONS ADD Ratio float(20)"
      ],
      "execution_count": 23,
      "outputs": [
        {
          "output_type": "stream",
          "text": [
            " * sqlite://\n",
            "Done.\n"
          ],
          "name": "stdout"
        },
        {
          "output_type": "execute_result",
          "data": {
            "text/plain": [
              "[]"
            ]
          },
          "metadata": {
            "tags": []
          },
          "execution_count": 23
        }
      ]
    },
    {
      "cell_type": "code",
      "metadata": {
        "colab": {
          "base_uri": "https://localhost:8080/",
          "height": 277
        },
        "id": "GjVm0xGGGzzU",
        "outputId": "40029fb8-f80b-46ab-80cc-56fdec6822a0"
      },
      "source": [
        "#Previewing the Changes made\n",
        "\n",
        "%%sql \n",
        "SELECT * FROM ELECTIONS limit 10\n"
      ],
      "execution_count": 25,
      "outputs": [
        {
          "output_type": "stream",
          "text": [
            " * sqlite://\n",
            "Done.\n"
          ],
          "name": "stdout"
        },
        {
          "output_type": "execute_result",
          "data": {
            "text/html": [
              "<table>\n",
              "    <thead>\n",
              "        <tr>\n",
              "            <th>State</th>\n",
              "            <th>Population</th>\n",
              "            <th>GrandElectors</th>\n",
              "            <th>Ratio</th>\n",
              "        </tr>\n",
              "    </thead>\n",
              "    <tbody>\n",
              "        <tr>\n",
              "            <td>CALIFORNIA</td>\n",
              "            <td>39144818</td>\n",
              "            <td>55</td>\n",
              "            <td>None</td>\n",
              "        </tr>\n",
              "        <tr>\n",
              "            <td>TEXAS</td>\n",
              "            <td>27469114</td>\n",
              "            <td>38</td>\n",
              "            <td>None</td>\n",
              "        </tr>\n",
              "        <tr>\n",
              "            <td>FLORIDA</td>\n",
              "            <td>20271272</td>\n",
              "            <td>29</td>\n",
              "            <td>None</td>\n",
              "        </tr>\n",
              "        <tr>\n",
              "            <td>NEW YORK</td>\n",
              "            <td>19795791</td>\n",
              "            <td>29</td>\n",
              "            <td>None</td>\n",
              "        </tr>\n",
              "        <tr>\n",
              "            <td>ILLINOIS</td>\n",
              "            <td>12859995</td>\n",
              "            <td>20</td>\n",
              "            <td>None</td>\n",
              "        </tr>\n",
              "        <tr>\n",
              "            <td>PENNSYLVANIA</td>\n",
              "            <td>12802503</td>\n",
              "            <td>20</td>\n",
              "            <td>None</td>\n",
              "        </tr>\n",
              "        <tr>\n",
              "            <td>OHIO</td>\n",
              "            <td>11613423</td>\n",
              "            <td>18</td>\n",
              "            <td>None</td>\n",
              "        </tr>\n",
              "        <tr>\n",
              "            <td>GEORGIA</td>\n",
              "            <td>10214860</td>\n",
              "            <td>16</td>\n",
              "            <td>None</td>\n",
              "        </tr>\n",
              "        <tr>\n",
              "            <td>NORTH CAROLINA</td>\n",
              "            <td>10042802</td>\n",
              "            <td>15</td>\n",
              "            <td>None</td>\n",
              "        </tr>\n",
              "        <tr>\n",
              "            <td>MICHIGAN</td>\n",
              "            <td>9922576</td>\n",
              "            <td>16</td>\n",
              "            <td>None</td>\n",
              "        </tr>\n",
              "    </tbody>\n",
              "</table>"
            ],
            "text/plain": [
              "[('CALIFORNIA', 39144818, 55, None),\n",
              " ('TEXAS', 27469114, 38, None),\n",
              " ('FLORIDA', 20271272, 29, None),\n",
              " ('NEW YORK', 19795791, 29, None),\n",
              " ('ILLINOIS', 12859995, 20, None),\n",
              " ('PENNSYLVANIA', 12802503, 20, None),\n",
              " ('OHIO', 11613423, 18, None),\n",
              " ('GEORGIA', 10214860, 16, None),\n",
              " ('NORTH CAROLINA', 10042802, 15, None),\n",
              " ('MICHIGAN', 9922576, 16, None)]"
            ]
          },
          "metadata": {
            "tags": []
          },
          "execution_count": 25
        }
      ]
    },
    {
      "cell_type": "code",
      "metadata": {
        "colab": {
          "base_uri": "https://localhost:8080/",
          "height": 294
        },
        "id": "SOV9haUmHP6X",
        "outputId": "35bcc1a0-0490-4c1d-bcc2-d33b29c43c85"
      },
      "source": [
        "#Computing the ratios and updating the Ratios column \n",
        "#Odering the states by decreasing ratio, making the priority list\n",
        "#\n",
        "#\n",
        "%%sql\n",
        "UPDATE ELECTIONS\n",
        "SET \"Ratio\" = Population/GrandElectors;\n",
        "SELECT * FROM ELECTIONS\n",
        "ORDER BY Ratio DESC limit 10;\n"
      ],
      "execution_count": 26,
      "outputs": [
        {
          "output_type": "stream",
          "text": [
            " * sqlite://\n",
            "51 rows affected.\n",
            "Done.\n"
          ],
          "name": "stdout"
        },
        {
          "output_type": "execute_result",
          "data": {
            "text/html": [
              "<table>\n",
              "    <thead>\n",
              "        <tr>\n",
              "            <th>State</th>\n",
              "            <th>Population</th>\n",
              "            <th>GrandElectors</th>\n",
              "            <th>Ratio</th>\n",
              "        </tr>\n",
              "    </thead>\n",
              "    <tbody>\n",
              "        <tr>\n",
              "            <td>TEXAS</td>\n",
              "            <td>27469114</td>\n",
              "            <td>38</td>\n",
              "            <td>722871.0</td>\n",
              "        </tr>\n",
              "        <tr>\n",
              "            <td>CALIFORNIA</td>\n",
              "            <td>39144818</td>\n",
              "            <td>55</td>\n",
              "            <td>711723.0</td>\n",
              "        </tr>\n",
              "        <tr>\n",
              "            <td>FLORIDA</td>\n",
              "            <td>20271272</td>\n",
              "            <td>29</td>\n",
              "            <td>699009.0</td>\n",
              "        </tr>\n",
              "        <tr>\n",
              "            <td>NEW YORK</td>\n",
              "            <td>19795791</td>\n",
              "            <td>29</td>\n",
              "            <td>682613.0</td>\n",
              "        </tr>\n",
              "        <tr>\n",
              "            <td>NORTH CAROLINA</td>\n",
              "            <td>10042802</td>\n",
              "            <td>15</td>\n",
              "            <td>669520.0</td>\n",
              "        </tr>\n",
              "        <tr>\n",
              "            <td>OHIO</td>\n",
              "            <td>11613423</td>\n",
              "            <td>18</td>\n",
              "            <td>645190.0</td>\n",
              "        </tr>\n",
              "        <tr>\n",
              "            <td>VIRGINIA</td>\n",
              "            <td>8382993</td>\n",
              "            <td>13</td>\n",
              "            <td>644845.0</td>\n",
              "        </tr>\n",
              "        <tr>\n",
              "            <td>ILLINOIS</td>\n",
              "            <td>12859995</td>\n",
              "            <td>20</td>\n",
              "            <td>642999.0</td>\n",
              "        </tr>\n",
              "        <tr>\n",
              "            <td>PENNSYLVANIA</td>\n",
              "            <td>12802503</td>\n",
              "            <td>20</td>\n",
              "            <td>640125.0</td>\n",
              "        </tr>\n",
              "        <tr>\n",
              "            <td>NEW JERSEY</td>\n",
              "            <td>8958013</td>\n",
              "            <td>14</td>\n",
              "            <td>639858.0</td>\n",
              "        </tr>\n",
              "    </tbody>\n",
              "</table>"
            ],
            "text/plain": [
              "[('TEXAS', 27469114, 38, 722871.0),\n",
              " ('CALIFORNIA', 39144818, 55, 711723.0),\n",
              " ('FLORIDA', 20271272, 29, 699009.0),\n",
              " ('NEW YORK', 19795791, 29, 682613.0),\n",
              " ('NORTH CAROLINA', 10042802, 15, 669520.0),\n",
              " ('OHIO', 11613423, 18, 645190.0),\n",
              " ('VIRGINIA', 8382993, 13, 644845.0),\n",
              " ('ILLINOIS', 12859995, 20, 642999.0),\n",
              " ('PENNSYLVANIA', 12802503, 20, 640125.0),\n",
              " ('NEW JERSEY', 8958013, 14, 639858.0)]"
            ]
          },
          "metadata": {
            "tags": []
          },
          "execution_count": 26
        }
      ]
    },
    {
      "cell_type": "markdown",
      "metadata": {
        "id": "3Gj8tCeCHg7W"
      },
      "source": [
        "### Computing Totals"
      ]
    },
    {
      "cell_type": "code",
      "metadata": {
        "id": "RMLlA7vZHmh3",
        "colab": {
          "base_uri": "https://localhost:8080/"
        },
        "outputId": "da3960a9-48d4-420f-c98c-8c8489d83d2c"
      },
      "source": [
        "#Computing the running Total of GrandElectors in the sorted list\n",
        "#\n",
        "%%sql\n",
        "CREATE TABLE G_Cummulative AS\n",
        "SELECT\n",
        "      t.State,t.GrandElectors,t.Population,t.Ratio,\n",
        "      (SELECT Sum(r.GrandElectors) FROM ELECTIONS as r WHERE t.Ratio <=r.Ratio) AS Cummulative \n",
        "    FROM ELECTIONS as t \n",
        "    GROUP BY t.Ratio ORDER BY t.Ratio DESC; "
      ],
      "execution_count": 27,
      "outputs": [
        {
          "output_type": "stream",
          "text": [
            " * sqlite://\n",
            "Done.\n"
          ],
          "name": "stdout"
        },
        {
          "output_type": "execute_result",
          "data": {
            "text/plain": [
              "[]"
            ]
          },
          "metadata": {
            "tags": []
          },
          "execution_count": 27
        }
      ]
    },
    {
      "cell_type": "code",
      "metadata": {
        "colab": {
          "base_uri": "https://localhost:8080/",
          "height": 1000
        },
        "id": "SXlOfIkW6ncS",
        "outputId": "9c1dff9f-842e-4de5-96dc-3dc7d2650dfd"
      },
      "source": [
        "##Previweing the Running totals\n",
        "#\n",
        "%%sql\n",
        "SELECT * FROM G_Cummulative;"
      ],
      "execution_count": 28,
      "outputs": [
        {
          "output_type": "stream",
          "text": [
            " * sqlite://\n",
            "Done.\n"
          ],
          "name": "stdout"
        },
        {
          "output_type": "execute_result",
          "data": {
            "text/html": [
              "<table>\n",
              "    <thead>\n",
              "        <tr>\n",
              "            <th>State</th>\n",
              "            <th>GrandElectors</th>\n",
              "            <th>Population</th>\n",
              "            <th>Ratio</th>\n",
              "            <th>Cummulative</th>\n",
              "        </tr>\n",
              "    </thead>\n",
              "    <tbody>\n",
              "        <tr>\n",
              "            <td>TEXAS</td>\n",
              "            <td>38</td>\n",
              "            <td>27469114</td>\n",
              "            <td>722871.0</td>\n",
              "            <td>38</td>\n",
              "        </tr>\n",
              "        <tr>\n",
              "            <td>CALIFORNIA</td>\n",
              "            <td>55</td>\n",
              "            <td>39144818</td>\n",
              "            <td>711723.0</td>\n",
              "            <td>93</td>\n",
              "        </tr>\n",
              "        <tr>\n",
              "            <td>FLORIDA</td>\n",
              "            <td>29</td>\n",
              "            <td>20271272</td>\n",
              "            <td>699009.0</td>\n",
              "            <td>122</td>\n",
              "        </tr>\n",
              "        <tr>\n",
              "            <td>NEW YORK</td>\n",
              "            <td>29</td>\n",
              "            <td>19795791</td>\n",
              "            <td>682613.0</td>\n",
              "            <td>151</td>\n",
              "        </tr>\n",
              "        <tr>\n",
              "            <td>NORTH CAROLINA</td>\n",
              "            <td>15</td>\n",
              "            <td>10042802</td>\n",
              "            <td>669520.0</td>\n",
              "            <td>166</td>\n",
              "        </tr>\n",
              "        <tr>\n",
              "            <td>OHIO</td>\n",
              "            <td>18</td>\n",
              "            <td>11613423</td>\n",
              "            <td>645190.0</td>\n",
              "            <td>184</td>\n",
              "        </tr>\n",
              "        <tr>\n",
              "            <td>VIRGINIA</td>\n",
              "            <td>13</td>\n",
              "            <td>8382993</td>\n",
              "            <td>644845.0</td>\n",
              "            <td>197</td>\n",
              "        </tr>\n",
              "        <tr>\n",
              "            <td>ILLINOIS</td>\n",
              "            <td>20</td>\n",
              "            <td>12859995</td>\n",
              "            <td>642999.0</td>\n",
              "            <td>217</td>\n",
              "        </tr>\n",
              "        <tr>\n",
              "            <td>PENNSYLVANIA</td>\n",
              "            <td>20</td>\n",
              "            <td>12802503</td>\n",
              "            <td>640125.0</td>\n",
              "            <td>237</td>\n",
              "        </tr>\n",
              "        <tr>\n",
              "            <td>NEW JERSEY</td>\n",
              "            <td>14</td>\n",
              "            <td>8958013</td>\n",
              "            <td>639858.0</td>\n",
              "            <td>251</td>\n",
              "        </tr>\n",
              "        <tr>\n",
              "            <td>GEORGIA</td>\n",
              "            <td>16</td>\n",
              "            <td>10214860</td>\n",
              "            <td>638428.0</td>\n",
              "            <td>267</td>\n",
              "        </tr>\n",
              "        <tr>\n",
              "            <td>ARIZONA</td>\n",
              "            <td>11</td>\n",
              "            <td>6828065</td>\n",
              "            <td>620733.0</td>\n",
              "            <td>278</td>\n",
              "        </tr>\n",
              "        <tr>\n",
              "            <td>MICHIGAN</td>\n",
              "            <td>16</td>\n",
              "            <td>9922576</td>\n",
              "            <td>620161.0</td>\n",
              "            <td>294</td>\n",
              "        </tr>\n",
              "        <tr>\n",
              "            <td>MASSACHUSETTS</td>\n",
              "            <td>11</td>\n",
              "            <td>6794422</td>\n",
              "            <td>617674.0</td>\n",
              "            <td>305</td>\n",
              "        </tr>\n",
              "        <tr>\n",
              "            <td>MISSOURI</td>\n",
              "            <td>10</td>\n",
              "            <td>6083672</td>\n",
              "            <td>608367.0</td>\n",
              "            <td>315</td>\n",
              "        </tr>\n",
              "        <tr>\n",
              "            <td>COLORADO</td>\n",
              "            <td>9</td>\n",
              "            <td>5456574</td>\n",
              "            <td>606286.0</td>\n",
              "            <td>324</td>\n",
              "        </tr>\n",
              "        <tr>\n",
              "            <td>INDIANA</td>\n",
              "            <td>11</td>\n",
              "            <td>6619680</td>\n",
              "            <td>601789.0</td>\n",
              "            <td>335</td>\n",
              "        </tr>\n",
              "        <tr>\n",
              "            <td>MARYLAND</td>\n",
              "            <td>10</td>\n",
              "            <td>6006401</td>\n",
              "            <td>600640.0</td>\n",
              "            <td>345</td>\n",
              "        </tr>\n",
              "        <tr>\n",
              "            <td>TENNESSEE</td>\n",
              "            <td>11</td>\n",
              "            <td>6600299</td>\n",
              "            <td>600027.0</td>\n",
              "            <td>356</td>\n",
              "        </tr>\n",
              "        <tr>\n",
              "            <td>WASHINGTON</td>\n",
              "            <td>12</td>\n",
              "            <td>7170351</td>\n",
              "            <td>597529.0</td>\n",
              "            <td>368</td>\n",
              "        </tr>\n",
              "        <tr>\n",
              "            <td>LOUISIANA</td>\n",
              "            <td>8</td>\n",
              "            <td>4670724</td>\n",
              "            <td>583840.0</td>\n",
              "            <td>376</td>\n",
              "        </tr>\n",
              "        <tr>\n",
              "            <td>WISCONSIN</td>\n",
              "            <td>10</td>\n",
              "            <td>5771337</td>\n",
              "            <td>577133.0</td>\n",
              "            <td>386</td>\n",
              "        </tr>\n",
              "        <tr>\n",
              "            <td>OREGON</td>\n",
              "            <td>7</td>\n",
              "            <td>4028977</td>\n",
              "            <td>575568.0</td>\n",
              "            <td>393</td>\n",
              "        </tr>\n",
              "        <tr>\n",
              "            <td>OKLAHOMA</td>\n",
              "            <td>7</td>\n",
              "            <td>3911338</td>\n",
              "            <td>558762.0</td>\n",
              "            <td>400</td>\n",
              "        </tr>\n",
              "        <tr>\n",
              "            <td>KENTUCKY</td>\n",
              "            <td>8</td>\n",
              "            <td>4425092</td>\n",
              "            <td>553136.0</td>\n",
              "            <td>408</td>\n",
              "        </tr>\n",
              "        <tr>\n",
              "            <td>MINNESOTA</td>\n",
              "            <td>10</td>\n",
              "            <td>5489594</td>\n",
              "            <td>548959.0</td>\n",
              "            <td>418</td>\n",
              "        </tr>\n",
              "        <tr>\n",
              "            <td>SOUTH CAROLINA</td>\n",
              "            <td>9</td>\n",
              "            <td>4896146</td>\n",
              "            <td>544016.0</td>\n",
              "            <td>427</td>\n",
              "        </tr>\n",
              "        <tr>\n",
              "            <td>ALABAMA</td>\n",
              "            <td>9</td>\n",
              "            <td>4858979</td>\n",
              "            <td>539886.0</td>\n",
              "            <td>436</td>\n",
              "        </tr>\n",
              "        <tr>\n",
              "            <td>IOWA</td>\n",
              "            <td>6</td>\n",
              "            <td>3123899</td>\n",
              "            <td>520649.0</td>\n",
              "            <td>442</td>\n",
              "        </tr>\n",
              "        <tr>\n",
              "            <td>CONNECTICUT</td>\n",
              "            <td>7</td>\n",
              "            <td>3590886</td>\n",
              "            <td>512983.0</td>\n",
              "            <td>449</td>\n",
              "        </tr>\n",
              "        <tr>\n",
              "            <td>UTAH</td>\n",
              "            <td>6</td>\n",
              "            <td>2995919</td>\n",
              "            <td>499319.0</td>\n",
              "            <td>455</td>\n",
              "        </tr>\n",
              "        <tr>\n",
              "            <td>MISSISSIPPI</td>\n",
              "            <td>6</td>\n",
              "            <td>2992333</td>\n",
              "            <td>498722.0</td>\n",
              "            <td>461</td>\n",
              "        </tr>\n",
              "        <tr>\n",
              "            <td>ARKANSAS</td>\n",
              "            <td>6</td>\n",
              "            <td>2978204</td>\n",
              "            <td>496367.0</td>\n",
              "            <td>467</td>\n",
              "        </tr>\n",
              "        <tr>\n",
              "            <td>KANSAS</td>\n",
              "            <td>6</td>\n",
              "            <td>2911641</td>\n",
              "            <td>485273.0</td>\n",
              "            <td>473</td>\n",
              "        </tr>\n",
              "        <tr>\n",
              "            <td>NEVADA</td>\n",
              "            <td>6</td>\n",
              "            <td>2890845</td>\n",
              "            <td>481807.0</td>\n",
              "            <td>479</td>\n",
              "        </tr>\n",
              "        <tr>\n",
              "            <td>NEW MEXICO</td>\n",
              "            <td>5</td>\n",
              "            <td>2085109</td>\n",
              "            <td>417021.0</td>\n",
              "            <td>484</td>\n",
              "        </tr>\n",
              "        <tr>\n",
              "            <td>IDAHO</td>\n",
              "            <td>4</td>\n",
              "            <td>1654930</td>\n",
              "            <td>413732.0</td>\n",
              "            <td>488</td>\n",
              "        </tr>\n",
              "        <tr>\n",
              "            <td>NEBRASKA</td>\n",
              "            <td>5</td>\n",
              "            <td>1896190</td>\n",
              "            <td>379238.0</td>\n",
              "            <td>493</td>\n",
              "        </tr>\n",
              "        <tr>\n",
              "            <td>WEST VIRGINIA</td>\n",
              "            <td>5</td>\n",
              "            <td>1844128</td>\n",
              "            <td>368825.0</td>\n",
              "            <td>498</td>\n",
              "        </tr>\n",
              "        <tr>\n",
              "            <td>HAWAII</td>\n",
              "            <td>4</td>\n",
              "            <td>1431603</td>\n",
              "            <td>357900.0</td>\n",
              "            <td>502</td>\n",
              "        </tr>\n",
              "        <tr>\n",
              "            <td>MONTANA</td>\n",
              "            <td>3</td>\n",
              "            <td>1032949</td>\n",
              "            <td>344316.0</td>\n",
              "            <td>505</td>\n",
              "        </tr>\n",
              "        <tr>\n",
              "            <td>NEW HAMPSHIRE</td>\n",
              "            <td>4</td>\n",
              "            <td>1330608</td>\n",
              "            <td>332652.0</td>\n",
              "            <td>509</td>\n",
              "        </tr>\n",
              "        <tr>\n",
              "            <td>MAINE</td>\n",
              "            <td>4</td>\n",
              "            <td>1329328</td>\n",
              "            <td>332332.0</td>\n",
              "            <td>513</td>\n",
              "        </tr>\n",
              "        <tr>\n",
              "            <td>DELAWARE</td>\n",
              "            <td>3</td>\n",
              "            <td>945934</td>\n",
              "            <td>315311.0</td>\n",
              "            <td>516</td>\n",
              "        </tr>\n",
              "        <tr>\n",
              "            <td>SOUTH DAKOTA</td>\n",
              "            <td>3</td>\n",
              "            <td>858469</td>\n",
              "            <td>286156.0</td>\n",
              "            <td>519</td>\n",
              "        </tr>\n",
              "        <tr>\n",
              "            <td>RHODE ISLAND</td>\n",
              "            <td>4</td>\n",
              "            <td>1056298</td>\n",
              "            <td>264074.0</td>\n",
              "            <td>523</td>\n",
              "        </tr>\n",
              "        <tr>\n",
              "            <td>NORTH DAKOTA</td>\n",
              "            <td>3</td>\n",
              "            <td>756927</td>\n",
              "            <td>252309.0</td>\n",
              "            <td>526</td>\n",
              "        </tr>\n",
              "        <tr>\n",
              "            <td>ALASKA</td>\n",
              "            <td>3</td>\n",
              "            <td>738432</td>\n",
              "            <td>246144.0</td>\n",
              "            <td>529</td>\n",
              "        </tr>\n",
              "        <tr>\n",
              "            <td>DC</td>\n",
              "            <td>3</td>\n",
              "            <td>672228</td>\n",
              "            <td>224076.0</td>\n",
              "            <td>532</td>\n",
              "        </tr>\n",
              "        <tr>\n",
              "            <td>VERMONT</td>\n",
              "            <td>3</td>\n",
              "            <td>626042</td>\n",
              "            <td>208680.0</td>\n",
              "            <td>535</td>\n",
              "        </tr>\n",
              "        <tr>\n",
              "            <td>WYOMING</td>\n",
              "            <td>3</td>\n",
              "            <td>586107</td>\n",
              "            <td>195369.0</td>\n",
              "            <td>538</td>\n",
              "        </tr>\n",
              "    </tbody>\n",
              "</table>"
            ],
            "text/plain": [
              "[('TEXAS', 38, 27469114, 722871.0, 38),\n",
              " ('CALIFORNIA', 55, 39144818, 711723.0, 93),\n",
              " ('FLORIDA', 29, 20271272, 699009.0, 122),\n",
              " ('NEW YORK', 29, 19795791, 682613.0, 151),\n",
              " ('NORTH CAROLINA', 15, 10042802, 669520.0, 166),\n",
              " ('OHIO', 18, 11613423, 645190.0, 184),\n",
              " ('VIRGINIA', 13, 8382993, 644845.0, 197),\n",
              " ('ILLINOIS', 20, 12859995, 642999.0, 217),\n",
              " ('PENNSYLVANIA', 20, 12802503, 640125.0, 237),\n",
              " ('NEW JERSEY', 14, 8958013, 639858.0, 251),\n",
              " ('GEORGIA', 16, 10214860, 638428.0, 267),\n",
              " ('ARIZONA', 11, 6828065, 620733.0, 278),\n",
              " ('MICHIGAN', 16, 9922576, 620161.0, 294),\n",
              " ('MASSACHUSETTS', 11, 6794422, 617674.0, 305),\n",
              " ('MISSOURI', 10, 6083672, 608367.0, 315),\n",
              " ('COLORADO', 9, 5456574, 606286.0, 324),\n",
              " ('INDIANA', 11, 6619680, 601789.0, 335),\n",
              " ('MARYLAND', 10, 6006401, 600640.0, 345),\n",
              " ('TENNESSEE', 11, 6600299, 600027.0, 356),\n",
              " ('WASHINGTON', 12, 7170351, 597529.0, 368),\n",
              " ('LOUISIANA', 8, 4670724, 583840.0, 376),\n",
              " ('WISCONSIN', 10, 5771337, 577133.0, 386),\n",
              " ('OREGON', 7, 4028977, 575568.0, 393),\n",
              " ('OKLAHOMA', 7, 3911338, 558762.0, 400),\n",
              " ('KENTUCKY', 8, 4425092, 553136.0, 408),\n",
              " ('MINNESOTA', 10, 5489594, 548959.0, 418),\n",
              " ('SOUTH CAROLINA', 9, 4896146, 544016.0, 427),\n",
              " ('ALABAMA', 9, 4858979, 539886.0, 436),\n",
              " ('IOWA', 6, 3123899, 520649.0, 442),\n",
              " ('CONNECTICUT', 7, 3590886, 512983.0, 449),\n",
              " ('UTAH', 6, 2995919, 499319.0, 455),\n",
              " ('MISSISSIPPI', 6, 2992333, 498722.0, 461),\n",
              " ('ARKANSAS', 6, 2978204, 496367.0, 467),\n",
              " ('KANSAS', 6, 2911641, 485273.0, 473),\n",
              " ('NEVADA', 6, 2890845, 481807.0, 479),\n",
              " ('NEW MEXICO', 5, 2085109, 417021.0, 484),\n",
              " ('IDAHO', 4, 1654930, 413732.0, 488),\n",
              " ('NEBRASKA', 5, 1896190, 379238.0, 493),\n",
              " ('WEST VIRGINIA', 5, 1844128, 368825.0, 498),\n",
              " ('HAWAII', 4, 1431603, 357900.0, 502),\n",
              " ('MONTANA', 3, 1032949, 344316.0, 505),\n",
              " ('NEW HAMPSHIRE', 4, 1330608, 332652.0, 509),\n",
              " ('MAINE', 4, 1329328, 332332.0, 513),\n",
              " ('DELAWARE', 3, 945934, 315311.0, 516),\n",
              " ('SOUTH DAKOTA', 3, 858469, 286156.0, 519),\n",
              " ('RHODE ISLAND', 4, 1056298, 264074.0, 523),\n",
              " ('NORTH DAKOTA', 3, 756927, 252309.0, 526),\n",
              " ('ALASKA', 3, 738432, 246144.0, 529),\n",
              " ('DC', 3, 672228, 224076.0, 532),\n",
              " ('VERMONT', 3, 626042, 208680.0, 535),\n",
              " ('WYOMING', 3, 586107, 195369.0, 538)]"
            ]
          },
          "metadata": {
            "tags": []
          },
          "execution_count": 28
        }
      ]
    },
    {
      "cell_type": "code",
      "metadata": {
        "colab": {
          "base_uri": "https://localhost:8080/",
          "height": 93
        },
        "id": "Zj3QKxdSIAEM",
        "outputId": "e045086a-5f0d-4747-eb1c-01d9beaacab5"
      },
      "source": [
        "#Independently computing the half of the total of Grand Electors overall (in the whole country):\n",
        "#\n",
        "%%sql\n",
        "SELECT SUM(GrandElectors)/2 from ELECTIONS"
      ],
      "execution_count": 29,
      "outputs": [
        {
          "output_type": "stream",
          "text": [
            " * sqlite://\n",
            "Done.\n"
          ],
          "name": "stdout"
        },
        {
          "output_type": "execute_result",
          "data": {
            "text/html": [
              "<table>\n",
              "    <thead>\n",
              "        <tr>\n",
              "            <th>SUM(GrandElectors)/2</th>\n",
              "        </tr>\n",
              "    </thead>\n",
              "    <tbody>\n",
              "        <tr>\n",
              "            <td>269</td>\n",
              "        </tr>\n",
              "    </tbody>\n",
              "</table>"
            ],
            "text/plain": [
              "[(269,)]"
            ]
          },
          "metadata": {
            "tags": []
          },
          "execution_count": 29
        }
      ]
    },
    {
      "cell_type": "markdown",
      "metadata": {
        "id": "vh1gHe6gIKl5"
      },
      "source": [
        "### **Filtering the sorted list**"
      ]
    },
    {
      "cell_type": "code",
      "metadata": {
        "colab": {
          "base_uri": "https://localhost:8080/",
          "height": 1000
        },
        "id": "EKg0Mj_1I0w2",
        "outputId": "ddf71fe1-d8f6-4dbf-c762-31b10da63d1b"
      },
      "source": [
        "#filtering  our sorted list of states in order to keep only the (top) ones \n",
        "# enabling us to reach the computed threshold. (the other states are ignored).\n",
        "%%sql \n",
        "SELECT a1.State, a1.GrandElectors, SUM(a2.GrandElectors) Running_Total\n",
        "FROM ELECTIONS a1, ELECTIONS a2\n",
        "WHERE a1.GrandElectors <= a2.GrandElectors or (a1.GrandElectors = a2.GrandElectors and a1.State = a2.State)\n",
        "GROUP BY a1.State, a1.GrandElectors\n",
        "ORDER BY a1.GrandElectors DESC, a1.State DESC;"
      ],
      "execution_count": 30,
      "outputs": [
        {
          "output_type": "stream",
          "text": [
            " * sqlite://\n",
            "Done.\n"
          ],
          "name": "stdout"
        },
        {
          "output_type": "execute_result",
          "data": {
            "text/html": [
              "<table>\n",
              "    <thead>\n",
              "        <tr>\n",
              "            <th>State</th>\n",
              "            <th>GrandElectors</th>\n",
              "            <th>Running_Total</th>\n",
              "        </tr>\n",
              "    </thead>\n",
              "    <tbody>\n",
              "        <tr>\n",
              "            <td>CALIFORNIA</td>\n",
              "            <td>55</td>\n",
              "            <td>55</td>\n",
              "        </tr>\n",
              "        <tr>\n",
              "            <td>TEXAS</td>\n",
              "            <td>38</td>\n",
              "            <td>93</td>\n",
              "        </tr>\n",
              "        <tr>\n",
              "            <td>NEW YORK</td>\n",
              "            <td>29</td>\n",
              "            <td>151</td>\n",
              "        </tr>\n",
              "        <tr>\n",
              "            <td>FLORIDA</td>\n",
              "            <td>29</td>\n",
              "            <td>151</td>\n",
              "        </tr>\n",
              "        <tr>\n",
              "            <td>PENNSYLVANIA</td>\n",
              "            <td>20</td>\n",
              "            <td>191</td>\n",
              "        </tr>\n",
              "        <tr>\n",
              "            <td>ILLINOIS</td>\n",
              "            <td>20</td>\n",
              "            <td>191</td>\n",
              "        </tr>\n",
              "        <tr>\n",
              "            <td>OHIO</td>\n",
              "            <td>18</td>\n",
              "            <td>209</td>\n",
              "        </tr>\n",
              "        <tr>\n",
              "            <td>MICHIGAN</td>\n",
              "            <td>16</td>\n",
              "            <td>241</td>\n",
              "        </tr>\n",
              "        <tr>\n",
              "            <td>GEORGIA</td>\n",
              "            <td>16</td>\n",
              "            <td>241</td>\n",
              "        </tr>\n",
              "        <tr>\n",
              "            <td>NORTH CAROLINA</td>\n",
              "            <td>15</td>\n",
              "            <td>256</td>\n",
              "        </tr>\n",
              "        <tr>\n",
              "            <td>NEW JERSEY</td>\n",
              "            <td>14</td>\n",
              "            <td>270</td>\n",
              "        </tr>\n",
              "        <tr>\n",
              "            <td>VIRGINIA</td>\n",
              "            <td>13</td>\n",
              "            <td>283</td>\n",
              "        </tr>\n",
              "        <tr>\n",
              "            <td>WASHINGTON</td>\n",
              "            <td>12</td>\n",
              "            <td>295</td>\n",
              "        </tr>\n",
              "        <tr>\n",
              "            <td>TENNESSEE</td>\n",
              "            <td>11</td>\n",
              "            <td>339</td>\n",
              "        </tr>\n",
              "        <tr>\n",
              "            <td>MASSACHUSETTS</td>\n",
              "            <td>11</td>\n",
              "            <td>339</td>\n",
              "        </tr>\n",
              "        <tr>\n",
              "            <td>INDIANA</td>\n",
              "            <td>11</td>\n",
              "            <td>339</td>\n",
              "        </tr>\n",
              "        <tr>\n",
              "            <td>ARIZONA</td>\n",
              "            <td>11</td>\n",
              "            <td>339</td>\n",
              "        </tr>\n",
              "        <tr>\n",
              "            <td>WISCONSIN</td>\n",
              "            <td>10</td>\n",
              "            <td>379</td>\n",
              "        </tr>\n",
              "        <tr>\n",
              "            <td>MISSOURI</td>\n",
              "            <td>10</td>\n",
              "            <td>379</td>\n",
              "        </tr>\n",
              "        <tr>\n",
              "            <td>MINNESOTA</td>\n",
              "            <td>10</td>\n",
              "            <td>379</td>\n",
              "        </tr>\n",
              "        <tr>\n",
              "            <td>MARYLAND</td>\n",
              "            <td>10</td>\n",
              "            <td>379</td>\n",
              "        </tr>\n",
              "        <tr>\n",
              "            <td>SOUTH CAROLINA</td>\n",
              "            <td>9</td>\n",
              "            <td>406</td>\n",
              "        </tr>\n",
              "        <tr>\n",
              "            <td>COLORADO</td>\n",
              "            <td>9</td>\n",
              "            <td>406</td>\n",
              "        </tr>\n",
              "        <tr>\n",
              "            <td>ALABAMA</td>\n",
              "            <td>9</td>\n",
              "            <td>406</td>\n",
              "        </tr>\n",
              "        <tr>\n",
              "            <td>LOUISIANA</td>\n",
              "            <td>8</td>\n",
              "            <td>422</td>\n",
              "        </tr>\n",
              "        <tr>\n",
              "            <td>KENTUCKY</td>\n",
              "            <td>8</td>\n",
              "            <td>422</td>\n",
              "        </tr>\n",
              "        <tr>\n",
              "            <td>OREGON</td>\n",
              "            <td>7</td>\n",
              "            <td>443</td>\n",
              "        </tr>\n",
              "        <tr>\n",
              "            <td>OKLAHOMA</td>\n",
              "            <td>7</td>\n",
              "            <td>443</td>\n",
              "        </tr>\n",
              "        <tr>\n",
              "            <td>CONNECTICUT</td>\n",
              "            <td>7</td>\n",
              "            <td>443</td>\n",
              "        </tr>\n",
              "        <tr>\n",
              "            <td>UTAH</td>\n",
              "            <td>6</td>\n",
              "            <td>479</td>\n",
              "        </tr>\n",
              "        <tr>\n",
              "            <td>NEVADA</td>\n",
              "            <td>6</td>\n",
              "            <td>479</td>\n",
              "        </tr>\n",
              "        <tr>\n",
              "            <td>MISSISSIPPI</td>\n",
              "            <td>6</td>\n",
              "            <td>479</td>\n",
              "        </tr>\n",
              "        <tr>\n",
              "            <td>KANSAS</td>\n",
              "            <td>6</td>\n",
              "            <td>479</td>\n",
              "        </tr>\n",
              "        <tr>\n",
              "            <td>IOWA</td>\n",
              "            <td>6</td>\n",
              "            <td>479</td>\n",
              "        </tr>\n",
              "        <tr>\n",
              "            <td>ARKANSAS</td>\n",
              "            <td>6</td>\n",
              "            <td>479</td>\n",
              "        </tr>\n",
              "        <tr>\n",
              "            <td>WEST VIRGINIA</td>\n",
              "            <td>5</td>\n",
              "            <td>494</td>\n",
              "        </tr>\n",
              "        <tr>\n",
              "            <td>NEW MEXICO</td>\n",
              "            <td>5</td>\n",
              "            <td>494</td>\n",
              "        </tr>\n",
              "        <tr>\n",
              "            <td>NEBRASKA</td>\n",
              "            <td>5</td>\n",
              "            <td>494</td>\n",
              "        </tr>\n",
              "        <tr>\n",
              "            <td>RHODE ISLAND</td>\n",
              "            <td>4</td>\n",
              "            <td>514</td>\n",
              "        </tr>\n",
              "        <tr>\n",
              "            <td>NEW HAMPSHIRE</td>\n",
              "            <td>4</td>\n",
              "            <td>514</td>\n",
              "        </tr>\n",
              "        <tr>\n",
              "            <td>MAINE</td>\n",
              "            <td>4</td>\n",
              "            <td>514</td>\n",
              "        </tr>\n",
              "        <tr>\n",
              "            <td>IDAHO</td>\n",
              "            <td>4</td>\n",
              "            <td>514</td>\n",
              "        </tr>\n",
              "        <tr>\n",
              "            <td>HAWAII</td>\n",
              "            <td>4</td>\n",
              "            <td>514</td>\n",
              "        </tr>\n",
              "        <tr>\n",
              "            <td>WYOMING</td>\n",
              "            <td>3</td>\n",
              "            <td>538</td>\n",
              "        </tr>\n",
              "        <tr>\n",
              "            <td>VERMONT</td>\n",
              "            <td>3</td>\n",
              "            <td>538</td>\n",
              "        </tr>\n",
              "        <tr>\n",
              "            <td>SOUTH DAKOTA</td>\n",
              "            <td>3</td>\n",
              "            <td>538</td>\n",
              "        </tr>\n",
              "        <tr>\n",
              "            <td>NORTH DAKOTA</td>\n",
              "            <td>3</td>\n",
              "            <td>538</td>\n",
              "        </tr>\n",
              "        <tr>\n",
              "            <td>MONTANA</td>\n",
              "            <td>3</td>\n",
              "            <td>538</td>\n",
              "        </tr>\n",
              "        <tr>\n",
              "            <td>DELAWARE</td>\n",
              "            <td>3</td>\n",
              "            <td>538</td>\n",
              "        </tr>\n",
              "        <tr>\n",
              "            <td>DC</td>\n",
              "            <td>3</td>\n",
              "            <td>538</td>\n",
              "        </tr>\n",
              "        <tr>\n",
              "            <td>ALASKA</td>\n",
              "            <td>3</td>\n",
              "            <td>538</td>\n",
              "        </tr>\n",
              "    </tbody>\n",
              "</table>"
            ],
            "text/plain": [
              "[('CALIFORNIA', 55, 55),\n",
              " ('TEXAS', 38, 93),\n",
              " ('NEW YORK', 29, 151),\n",
              " ('FLORIDA', 29, 151),\n",
              " ('PENNSYLVANIA', 20, 191),\n",
              " ('ILLINOIS', 20, 191),\n",
              " ('OHIO', 18, 209),\n",
              " ('MICHIGAN', 16, 241),\n",
              " ('GEORGIA', 16, 241),\n",
              " ('NORTH CAROLINA', 15, 256),\n",
              " ('NEW JERSEY', 14, 270),\n",
              " ('VIRGINIA', 13, 283),\n",
              " ('WASHINGTON', 12, 295),\n",
              " ('TENNESSEE', 11, 339),\n",
              " ('MASSACHUSETTS', 11, 339),\n",
              " ('INDIANA', 11, 339),\n",
              " ('ARIZONA', 11, 339),\n",
              " ('WISCONSIN', 10, 379),\n",
              " ('MISSOURI', 10, 379),\n",
              " ('MINNESOTA', 10, 379),\n",
              " ('MARYLAND', 10, 379),\n",
              " ('SOUTH CAROLINA', 9, 406),\n",
              " ('COLORADO', 9, 406),\n",
              " ('ALABAMA', 9, 406),\n",
              " ('LOUISIANA', 8, 422),\n",
              " ('KENTUCKY', 8, 422),\n",
              " ('OREGON', 7, 443),\n",
              " ('OKLAHOMA', 7, 443),\n",
              " ('CONNECTICUT', 7, 443),\n",
              " ('UTAH', 6, 479),\n",
              " ('NEVADA', 6, 479),\n",
              " ('MISSISSIPPI', 6, 479),\n",
              " ('KANSAS', 6, 479),\n",
              " ('IOWA', 6, 479),\n",
              " ('ARKANSAS', 6, 479),\n",
              " ('WEST VIRGINIA', 5, 494),\n",
              " ('NEW MEXICO', 5, 494),\n",
              " ('NEBRASKA', 5, 494),\n",
              " ('RHODE ISLAND', 4, 514),\n",
              " ('NEW HAMPSHIRE', 4, 514),\n",
              " ('MAINE', 4, 514),\n",
              " ('IDAHO', 4, 514),\n",
              " ('HAWAII', 4, 514),\n",
              " ('WYOMING', 3, 538),\n",
              " ('VERMONT', 3, 538),\n",
              " ('SOUTH DAKOTA', 3, 538),\n",
              " ('NORTH DAKOTA', 3, 538),\n",
              " ('MONTANA', 3, 538),\n",
              " ('DELAWARE', 3, 538),\n",
              " ('DC', 3, 538),\n",
              " ('ALASKA', 3, 538)]"
            ]
          },
          "metadata": {
            "tags": []
          },
          "execution_count": 30
        }
      ]
    },
    {
      "cell_type": "code",
      "metadata": {
        "colab": {
          "base_uri": "https://localhost:8080/",
          "height": 1000
        },
        "id": "td5wF6e5I-be",
        "outputId": "090874f5-c5f1-4d61-b959-24a25a9e9730"
      },
      "source": [
        ""
      ],
      "execution_count": null,
      "outputs": [
        {
          "output_type": "stream",
          "text": [
            " * sqlite://\n",
            "Done.\n"
          ],
          "name": "stdout"
        },
        {
          "output_type": "execute_result",
          "data": {
            "text/html": [
              "<table>\n",
              "    <thead>\n",
              "        <tr>\n",
              "            <th>State</th>\n",
              "            <th>GrandElectors</th>\n",
              "            <th>Running_Total</th>\n",
              "        </tr>\n",
              "    </thead>\n",
              "    <tbody>\n",
              "        <tr>\n",
              "            <td>CALIFORNIA</td>\n",
              "            <td>55</td>\n",
              "            <td>55</td>\n",
              "        </tr>\n",
              "        <tr>\n",
              "            <td>TEXAS</td>\n",
              "            <td>38</td>\n",
              "            <td>93</td>\n",
              "        </tr>\n",
              "        <tr>\n",
              "            <td>NEW YORK</td>\n",
              "            <td>29</td>\n",
              "            <td>151</td>\n",
              "        </tr>\n",
              "        <tr>\n",
              "            <td>FLORIDA</td>\n",
              "            <td>29</td>\n",
              "            <td>151</td>\n",
              "        </tr>\n",
              "        <tr>\n",
              "            <td>PENNSYLVANIA</td>\n",
              "            <td>20</td>\n",
              "            <td>191</td>\n",
              "        </tr>\n",
              "        <tr>\n",
              "            <td>ILLINOIS</td>\n",
              "            <td>20</td>\n",
              "            <td>191</td>\n",
              "        </tr>\n",
              "        <tr>\n",
              "            <td>OHIO</td>\n",
              "            <td>18</td>\n",
              "            <td>209</td>\n",
              "        </tr>\n",
              "        <tr>\n",
              "            <td>MICHIGAN</td>\n",
              "            <td>16</td>\n",
              "            <td>241</td>\n",
              "        </tr>\n",
              "        <tr>\n",
              "            <td>GEORGIA</td>\n",
              "            <td>16</td>\n",
              "            <td>241</td>\n",
              "        </tr>\n",
              "        <tr>\n",
              "            <td>NORTH CAROLINA</td>\n",
              "            <td>15</td>\n",
              "            <td>256</td>\n",
              "        </tr>\n",
              "        <tr>\n",
              "            <td>NEW JERSEY</td>\n",
              "            <td>14</td>\n",
              "            <td>270</td>\n",
              "        </tr>\n",
              "        <tr>\n",
              "            <td>VIRGINIA</td>\n",
              "            <td>13</td>\n",
              "            <td>283</td>\n",
              "        </tr>\n",
              "        <tr>\n",
              "            <td>WASHINGTON</td>\n",
              "            <td>12</td>\n",
              "            <td>295</td>\n",
              "        </tr>\n",
              "        <tr>\n",
              "            <td>TENNESSEE</td>\n",
              "            <td>11</td>\n",
              "            <td>339</td>\n",
              "        </tr>\n",
              "        <tr>\n",
              "            <td>MASSACHUSETTS</td>\n",
              "            <td>11</td>\n",
              "            <td>339</td>\n",
              "        </tr>\n",
              "        <tr>\n",
              "            <td>INDIANA</td>\n",
              "            <td>11</td>\n",
              "            <td>339</td>\n",
              "        </tr>\n",
              "        <tr>\n",
              "            <td>ARIZONA</td>\n",
              "            <td>11</td>\n",
              "            <td>339</td>\n",
              "        </tr>\n",
              "        <tr>\n",
              "            <td>WISCONSIN</td>\n",
              "            <td>10</td>\n",
              "            <td>379</td>\n",
              "        </tr>\n",
              "        <tr>\n",
              "            <td>MISSOURI</td>\n",
              "            <td>10</td>\n",
              "            <td>379</td>\n",
              "        </tr>\n",
              "        <tr>\n",
              "            <td>MINNESOTA</td>\n",
              "            <td>10</td>\n",
              "            <td>379</td>\n",
              "        </tr>\n",
              "        <tr>\n",
              "            <td>MARYLAND</td>\n",
              "            <td>10</td>\n",
              "            <td>379</td>\n",
              "        </tr>\n",
              "        <tr>\n",
              "            <td>SOUTH CAROLINA</td>\n",
              "            <td>9</td>\n",
              "            <td>406</td>\n",
              "        </tr>\n",
              "        <tr>\n",
              "            <td>COLORADO</td>\n",
              "            <td>9</td>\n",
              "            <td>406</td>\n",
              "        </tr>\n",
              "        <tr>\n",
              "            <td>ALABAMA</td>\n",
              "            <td>9</td>\n",
              "            <td>406</td>\n",
              "        </tr>\n",
              "        <tr>\n",
              "            <td>LOUISIANA</td>\n",
              "            <td>8</td>\n",
              "            <td>422</td>\n",
              "        </tr>\n",
              "        <tr>\n",
              "            <td>KENTUCKY</td>\n",
              "            <td>8</td>\n",
              "            <td>422</td>\n",
              "        </tr>\n",
              "        <tr>\n",
              "            <td>OREGON</td>\n",
              "            <td>7</td>\n",
              "            <td>443</td>\n",
              "        </tr>\n",
              "        <tr>\n",
              "            <td>OKLAHOMA</td>\n",
              "            <td>7</td>\n",
              "            <td>443</td>\n",
              "        </tr>\n",
              "        <tr>\n",
              "            <td>CONNECTICUT</td>\n",
              "            <td>7</td>\n",
              "            <td>443</td>\n",
              "        </tr>\n",
              "        <tr>\n",
              "            <td>UTAH</td>\n",
              "            <td>6</td>\n",
              "            <td>479</td>\n",
              "        </tr>\n",
              "        <tr>\n",
              "            <td>NEVADA</td>\n",
              "            <td>6</td>\n",
              "            <td>479</td>\n",
              "        </tr>\n",
              "        <tr>\n",
              "            <td>MISSISSIPPI</td>\n",
              "            <td>6</td>\n",
              "            <td>479</td>\n",
              "        </tr>\n",
              "        <tr>\n",
              "            <td>KANSAS</td>\n",
              "            <td>6</td>\n",
              "            <td>479</td>\n",
              "        </tr>\n",
              "        <tr>\n",
              "            <td>IOWA</td>\n",
              "            <td>6</td>\n",
              "            <td>479</td>\n",
              "        </tr>\n",
              "        <tr>\n",
              "            <td>ARKANSAS</td>\n",
              "            <td>6</td>\n",
              "            <td>479</td>\n",
              "        </tr>\n",
              "        <tr>\n",
              "            <td>WEST VIRGINIA</td>\n",
              "            <td>5</td>\n",
              "            <td>494</td>\n",
              "        </tr>\n",
              "        <tr>\n",
              "            <td>NEW MEXICO</td>\n",
              "            <td>5</td>\n",
              "            <td>494</td>\n",
              "        </tr>\n",
              "        <tr>\n",
              "            <td>NEBRASKA</td>\n",
              "            <td>5</td>\n",
              "            <td>494</td>\n",
              "        </tr>\n",
              "        <tr>\n",
              "            <td>RHODE ISLAND</td>\n",
              "            <td>4</td>\n",
              "            <td>514</td>\n",
              "        </tr>\n",
              "        <tr>\n",
              "            <td>NEW HAMPSHIRE</td>\n",
              "            <td>4</td>\n",
              "            <td>514</td>\n",
              "        </tr>\n",
              "        <tr>\n",
              "            <td>MAINE</td>\n",
              "            <td>4</td>\n",
              "            <td>514</td>\n",
              "        </tr>\n",
              "        <tr>\n",
              "            <td>IDAHO</td>\n",
              "            <td>4</td>\n",
              "            <td>514</td>\n",
              "        </tr>\n",
              "        <tr>\n",
              "            <td>HAWAII</td>\n",
              "            <td>4</td>\n",
              "            <td>514</td>\n",
              "        </tr>\n",
              "        <tr>\n",
              "            <td>WYOMING</td>\n",
              "            <td>3</td>\n",
              "            <td>538</td>\n",
              "        </tr>\n",
              "        <tr>\n",
              "            <td>VERMONT</td>\n",
              "            <td>3</td>\n",
              "            <td>538</td>\n",
              "        </tr>\n",
              "        <tr>\n",
              "            <td>SOUTH DAKOTA</td>\n",
              "            <td>3</td>\n",
              "            <td>538</td>\n",
              "        </tr>\n",
              "        <tr>\n",
              "            <td>NORTH DAKOTA</td>\n",
              "            <td>3</td>\n",
              "            <td>538</td>\n",
              "        </tr>\n",
              "        <tr>\n",
              "            <td>MONTANA</td>\n",
              "            <td>3</td>\n",
              "            <td>538</td>\n",
              "        </tr>\n",
              "        <tr>\n",
              "            <td>DELAWARE</td>\n",
              "            <td>3</td>\n",
              "            <td>538</td>\n",
              "        </tr>\n",
              "        <tr>\n",
              "            <td>DC</td>\n",
              "            <td>3</td>\n",
              "            <td>538</td>\n",
              "        </tr>\n",
              "        <tr>\n",
              "            <td>ALASKA</td>\n",
              "            <td>3</td>\n",
              "            <td>538</td>\n",
              "        </tr>\n",
              "    </tbody>\n",
              "</table>"
            ],
            "text/plain": [
              "[('CALIFORNIA', 55, 55),\n",
              " ('TEXAS', 38, 93),\n",
              " ('NEW YORK', 29, 151),\n",
              " ('FLORIDA', 29, 151),\n",
              " ('PENNSYLVANIA', 20, 191),\n",
              " ('ILLINOIS', 20, 191),\n",
              " ('OHIO', 18, 209),\n",
              " ('MICHIGAN', 16, 241),\n",
              " ('GEORGIA', 16, 241),\n",
              " ('NORTH CAROLINA', 15, 256),\n",
              " ('NEW JERSEY', 14, 270),\n",
              " ('VIRGINIA', 13, 283),\n",
              " ('WASHINGTON', 12, 295),\n",
              " ('TENNESSEE', 11, 339),\n",
              " ('MASSACHUSETTS', 11, 339),\n",
              " ('INDIANA', 11, 339),\n",
              " ('ARIZONA', 11, 339),\n",
              " ('WISCONSIN', 10, 379),\n",
              " ('MISSOURI', 10, 379),\n",
              " ('MINNESOTA', 10, 379),\n",
              " ('MARYLAND', 10, 379),\n",
              " ('SOUTH CAROLINA', 9, 406),\n",
              " ('COLORADO', 9, 406),\n",
              " ('ALABAMA', 9, 406),\n",
              " ('LOUISIANA', 8, 422),\n",
              " ('KENTUCKY', 8, 422),\n",
              " ('OREGON', 7, 443),\n",
              " ('OKLAHOMA', 7, 443),\n",
              " ('CONNECTICUT', 7, 443),\n",
              " ('UTAH', 6, 479),\n",
              " ('NEVADA', 6, 479),\n",
              " ('MISSISSIPPI', 6, 479),\n",
              " ('KANSAS', 6, 479),\n",
              " ('IOWA', 6, 479),\n",
              " ('ARKANSAS', 6, 479),\n",
              " ('WEST VIRGINIA', 5, 494),\n",
              " ('NEW MEXICO', 5, 494),\n",
              " ('NEBRASKA', 5, 494),\n",
              " ('RHODE ISLAND', 4, 514),\n",
              " ('NEW HAMPSHIRE', 4, 514),\n",
              " ('MAINE', 4, 514),\n",
              " ('IDAHO', 4, 514),\n",
              " ('HAWAII', 4, 514),\n",
              " ('WYOMING', 3, 538),\n",
              " ('VERMONT', 3, 538),\n",
              " ('SOUTH DAKOTA', 3, 538),\n",
              " ('NORTH DAKOTA', 3, 538),\n",
              " ('MONTANA', 3, 538),\n",
              " ('DELAWARE', 3, 538),\n",
              " ('DC', 3, 538),\n",
              " ('ALASKA', 3, 538)]"
            ]
          },
          "metadata": {
            "tags": []
          },
          "execution_count": 35
        }
      ]
    },
    {
      "cell_type": "markdown",
      "metadata": {
        "id": "DohTd_kGFS04"
      },
      "source": [
        "# **EVALUATION**"
      ]
    },
    {
      "cell_type": "code",
      "metadata": {
        "id": "wirEKkVSYw0o",
        "colab": {
          "base_uri": "https://localhost:8080/",
          "height": 297
        },
        "outputId": "6ae7305f-d5d4-4dd4-e1a5-e809a874e046"
      },
      "source": [
        "#Target List\n",
        "\n",
        "%%sql\n",
        "SELECT a1.State, a1.GrandElectors, SUM(a2.GrandElectors) Running_Total\n",
        "FROM ELECTIONS a1, ELECTIONS a2\n",
        "WHERE a1.GrandElectors <= a2.GrandElectors or (a1.GrandElectors=a2.GrandElectors and a1.State = a2.State)\n",
        "GROUP BY a1.State, a1.GrandElectors\n",
        "ORDER BY a1.GrandElectors DESC, a1.State DESC\n",
        "LIMIT 11"
      ],
      "execution_count": 31,
      "outputs": [
        {
          "output_type": "stream",
          "text": [
            " * sqlite://\n",
            "Done.\n"
          ],
          "name": "stdout"
        },
        {
          "output_type": "execute_result",
          "data": {
            "text/html": [
              "<table>\n",
              "    <thead>\n",
              "        <tr>\n",
              "            <th>State</th>\n",
              "            <th>GrandElectors</th>\n",
              "            <th>Running_Total</th>\n",
              "        </tr>\n",
              "    </thead>\n",
              "    <tbody>\n",
              "        <tr>\n",
              "            <td>CALIFORNIA</td>\n",
              "            <td>55</td>\n",
              "            <td>55</td>\n",
              "        </tr>\n",
              "        <tr>\n",
              "            <td>TEXAS</td>\n",
              "            <td>38</td>\n",
              "            <td>93</td>\n",
              "        </tr>\n",
              "        <tr>\n",
              "            <td>NEW YORK</td>\n",
              "            <td>29</td>\n",
              "            <td>151</td>\n",
              "        </tr>\n",
              "        <tr>\n",
              "            <td>FLORIDA</td>\n",
              "            <td>29</td>\n",
              "            <td>151</td>\n",
              "        </tr>\n",
              "        <tr>\n",
              "            <td>PENNSYLVANIA</td>\n",
              "            <td>20</td>\n",
              "            <td>191</td>\n",
              "        </tr>\n",
              "        <tr>\n",
              "            <td>ILLINOIS</td>\n",
              "            <td>20</td>\n",
              "            <td>191</td>\n",
              "        </tr>\n",
              "        <tr>\n",
              "            <td>OHIO</td>\n",
              "            <td>18</td>\n",
              "            <td>209</td>\n",
              "        </tr>\n",
              "        <tr>\n",
              "            <td>MICHIGAN</td>\n",
              "            <td>16</td>\n",
              "            <td>241</td>\n",
              "        </tr>\n",
              "        <tr>\n",
              "            <td>GEORGIA</td>\n",
              "            <td>16</td>\n",
              "            <td>241</td>\n",
              "        </tr>\n",
              "        <tr>\n",
              "            <td>NORTH CAROLINA</td>\n",
              "            <td>15</td>\n",
              "            <td>256</td>\n",
              "        </tr>\n",
              "        <tr>\n",
              "            <td>NEW JERSEY</td>\n",
              "            <td>14</td>\n",
              "            <td>270</td>\n",
              "        </tr>\n",
              "    </tbody>\n",
              "</table>"
            ],
            "text/plain": [
              "[('CALIFORNIA', 55, 55),\n",
              " ('TEXAS', 38, 93),\n",
              " ('NEW YORK', 29, 151),\n",
              " ('FLORIDA', 29, 151),\n",
              " ('PENNSYLVANIA', 20, 191),\n",
              " ('ILLINOIS', 20, 191),\n",
              " ('OHIO', 18, 209),\n",
              " ('MICHIGAN', 16, 241),\n",
              " ('GEORGIA', 16, 241),\n",
              " ('NORTH CAROLINA', 15, 256),\n",
              " ('NEW JERSEY', 14, 270)]"
            ]
          },
          "metadata": {
            "tags": []
          },
          "execution_count": 31
        }
      ]
    },
    {
      "cell_type": "markdown",
      "metadata": {
        "id": "1LVGl8R_ZKBC"
      },
      "source": [
        "Our target list shows that we will need to prioritize 11 states namely: California, Texas, New York, Florida, Pennsylvania, Illinois, Ohio, Michigan, Georgia, North Carolina and New Jersey. To have a sure win, the campaign team can also target the 12th state i.e. Virginia. "
      ]
    }
  ]
}